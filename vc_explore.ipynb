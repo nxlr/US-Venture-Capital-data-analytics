{
 "cells": [
  {
   "cell_type": "code",
   "execution_count": 1,
   "metadata": {},
   "outputs": [],
   "source": [
    "# import modules\n",
    "import pandas as pd\n",
    "import numpy as np\n",
    "import plotly\n",
    "import plotly.plotly as py\n",
    "import plotly.graph_objs as go \n",
    "from plotly.offline import download_plotlyjs, init_notebook_mode, plot, iplot"
   ]
  },
  {
   "cell_type": "code",
   "execution_count": 2,
   "metadata": {},
   "outputs": [
    {
     "data": {
      "text/html": [
       "<script type=\"text/javascript\">window.PlotlyConfig = {MathJaxConfig: 'local'};</script><script type=\"text/javascript\">if (window.MathJax) {MathJax.Hub.Config({SVG: {font: \"STIX-Web\"}});}</script><script>requirejs.config({paths: { 'plotly': ['https://cdn.plot.ly/plotly-latest.min']},});if(!window._Plotly) {require(['plotly'],function(plotly) {window._Plotly=plotly;});}</script>"
      ],
      "text/vnd.plotly.v1+html": [
       "<script type=\"text/javascript\">window.PlotlyConfig = {MathJaxConfig: 'local'};</script><script type=\"text/javascript\">if (window.MathJax) {MathJax.Hub.Config({SVG: {font: \"STIX-Web\"}});}</script><script>requirejs.config({paths: { 'plotly': ['https://cdn.plot.ly/plotly-latest.min']},});if(!window._Plotly) {require(['plotly'],function(plotly) {window._Plotly=plotly;});}</script>"
      ]
     },
     "metadata": {},
     "output_type": "display_data"
    }
   ],
   "source": [
    "init_notebook_mode(connected=True)\n",
    "\n",
    "df = pd.read_csv('final_cleaned_vc_data.csv')\n",
    "df.columns = df.columns.str.strip().str.lower().str.replace(' ', '_').str.replace('(', '').str.replace(')', '')"
   ]
  },
  {
   "cell_type": "code",
   "execution_count": 3,
   "metadata": {},
   "outputs": [
    {
     "data": {
      "text/html": [
       "<div>\n",
       "<style scoped>\n",
       "    .dataframe tbody tr th:only-of-type {\n",
       "        vertical-align: middle;\n",
       "    }\n",
       "\n",
       "    .dataframe tbody tr th {\n",
       "        vertical-align: top;\n",
       "    }\n",
       "\n",
       "    .dataframe thead th {\n",
       "        text-align: right;\n",
       "    }\n",
       "</style>\n",
       "<table border=\"1\" class=\"dataframe\">\n",
       "  <thead>\n",
       "    <tr style=\"text-align: right;\">\n",
       "      <th></th>\n",
       "      <th>continent</th>\n",
       "      <th>country</th>\n",
       "      <th>region</th>\n",
       "      <th>state</th>\n",
       "      <th>name_of_vc</th>\n",
       "      <th>year_of_establishment</th>\n",
       "      <th>type_of_investor</th>\n",
       "      <th>website</th>\n",
       "      <th>postal_address</th>\n",
       "      <th>pincode</th>\n",
       "      <th>...</th>\n",
       "      <th>email_address</th>\n",
       "      <th>sectors_dealt_with</th>\n",
       "      <th>investment_stage</th>\n",
       "      <th>investment_amount_minimum</th>\n",
       "      <th>investment_amount_maximum</th>\n",
       "      <th>previously_invested_total_amount</th>\n",
       "      <th>total_number_of_companies_funded_so_far</th>\n",
       "      <th>latitude</th>\n",
       "      <th>longitude</th>\n",
       "      <th>code</th>\n",
       "    </tr>\n",
       "  </thead>\n",
       "  <tbody>\n",
       "    <tr>\n",
       "      <th>0</th>\n",
       "      <td>north america</td>\n",
       "      <td>usa</td>\n",
       "      <td>south-eastern</td>\n",
       "      <td>alabama</td>\n",
       "      <td>accomplice</td>\n",
       "      <td>2015.0</td>\n",
       "      <td>private equity firm</td>\n",
       "      <td>www.accomplice.co</td>\n",
       "      <td>25 first street, suite 303 cambridge, ma 02141...</td>\n",
       "      <td>2141</td>\n",
       "      <td>...</td>\n",
       "      <td>hello@accomplice.co</td>\n",
       "      <td>cybersecurity,esports,data analytics,smb class...</td>\n",
       "      <td>startups</td>\n",
       "      <td>785000.0</td>\n",
       "      <td>150000000.0</td>\n",
       "      <td>405000000.0</td>\n",
       "      <td>180.0</td>\n",
       "      <td>32.31823</td>\n",
       "      <td>-86.902298</td>\n",
       "      <td>al</td>\n",
       "    </tr>\n",
       "    <tr>\n",
       "      <th>1</th>\n",
       "      <td>north america</td>\n",
       "      <td>usa</td>\n",
       "      <td>south</td>\n",
       "      <td>alabama</td>\n",
       "      <td>bonaventure capital</td>\n",
       "      <td>1998.0</td>\n",
       "      <td>venture capital</td>\n",
       "      <td>http://www.bonaventurecapital.net/</td>\n",
       "      <td>820 shades creek parkway\\n \\n suite 1200\\n \\n ...</td>\n",
       "      <td>35209</td>\n",
       "      <td>...</td>\n",
       "      <td>info@bonaventurecapital.net</td>\n",
       "      <td>internet services,internet advertising,network...</td>\n",
       "      <td>early stage</td>\n",
       "      <td>4400000.0</td>\n",
       "      <td>33000000.0</td>\n",
       "      <td>83000000.0</td>\n",
       "      <td>8.0</td>\n",
       "      <td>32.31823</td>\n",
       "      <td>-86.902298</td>\n",
       "      <td>al</td>\n",
       "    </tr>\n",
       "    <tr>\n",
       "      <th>2</th>\n",
       "      <td>north america</td>\n",
       "      <td>united states of america</td>\n",
       "      <td>south</td>\n",
       "      <td>argentina</td>\n",
       "      <td>kaszek ventures</td>\n",
       "      <td>2011.0</td>\n",
       "      <td>venture capital</td>\n",
       "      <td>http://www.kaszek.com/</td>\n",
       "      <td>NaN</td>\n",
       "      <td>NaN</td>\n",
       "      <td>...</td>\n",
       "      <td>\\ninfo@kaszek.com</td>\n",
       "      <td>NaN</td>\n",
       "      <td>seed \\nearly stage venture\\nlate stage venture</td>\n",
       "      <td>1700000.0</td>\n",
       "      <td>50000000.0</td>\n",
       "      <td>165200000.0</td>\n",
       "      <td>68.0</td>\n",
       "      <td>-34.603722</td>\n",
       "      <td>-58.381592</td>\n",
       "      <td>ar</td>\n",
       "    </tr>\n",
       "    <tr>\n",
       "      <th>3</th>\n",
       "      <td>north america</td>\n",
       "      <td>usa</td>\n",
       "      <td>west</td>\n",
       "      <td>arizona</td>\n",
       "      <td>beechtree capital</td>\n",
       "      <td>1994.0</td>\n",
       "      <td>private</td>\n",
       "      <td>http://www.beechtreecapital.com/</td>\n",
       "      <td>34522 north  scottsddale road suite arizona 85266</td>\n",
       "      <td>85266</td>\n",
       "      <td>...</td>\n",
       "      <td>NaN</td>\n",
       "      <td>entertainment,sports,ecological,ports,medicine</td>\n",
       "      <td>early stage</td>\n",
       "      <td>4400000.0</td>\n",
       "      <td>41600000.0</td>\n",
       "      <td>83500000.0</td>\n",
       "      <td>4.0</td>\n",
       "      <td>34.048927</td>\n",
       "      <td>-111.093731</td>\n",
       "      <td>az</td>\n",
       "    </tr>\n",
       "    <tr>\n",
       "      <th>4</th>\n",
       "      <td>north america</td>\n",
       "      <td>usa</td>\n",
       "      <td>west</td>\n",
       "      <td>arizona</td>\n",
       "      <td>diamond state ventures, l.p.</td>\n",
       "      <td>1999.0</td>\n",
       "      <td>venture capital</td>\n",
       "      <td>http://new.diamondstateventures.com/</td>\n",
       "      <td>diamond state ventures\\n suite 400\\n little ro...</td>\n",
       "      <td>72201</td>\n",
       "      <td>...</td>\n",
       "      <td>jhays@dsvlp.com</td>\n",
       "      <td>manufacturing,business services,media,consumer...</td>\n",
       "      <td>early stage</td>\n",
       "      <td>4000000.0</td>\n",
       "      <td>15000000.0</td>\n",
       "      <td>26000000.0</td>\n",
       "      <td>4.0</td>\n",
       "      <td>34.048928</td>\n",
       "      <td>-111.093732</td>\n",
       "      <td>az</td>\n",
       "    </tr>\n",
       "  </tbody>\n",
       "</table>\n",
       "<p>5 rows × 22 columns</p>\n",
       "</div>"
      ],
      "text/plain": [
       "       continent                   country         region      state  \\\n",
       "0  north america                       usa  south-eastern    alabama   \n",
       "1  north america                       usa          south    alabama   \n",
       "2  north america  united states of america          south  argentina   \n",
       "3  north america                       usa           west    arizona   \n",
       "4  north america                       usa           west    arizona   \n",
       "\n",
       "                     name_of_vc  year_of_establishment     type_of_investor  \\\n",
       "0                    accomplice                 2015.0  private equity firm   \n",
       "1           bonaventure capital                 1998.0      venture capital   \n",
       "2               kaszek ventures                 2011.0      venture capital   \n",
       "3             beechtree capital                 1994.0              private   \n",
       "4  diamond state ventures, l.p.                 1999.0      venture capital   \n",
       "\n",
       "                                website  \\\n",
       "0                     www.accomplice.co   \n",
       "1    http://www.bonaventurecapital.net/   \n",
       "2                http://www.kaszek.com/   \n",
       "3      http://www.beechtreecapital.com/   \n",
       "4  http://new.diamondstateventures.com/   \n",
       "\n",
       "                                      postal_address pincode  ...  \\\n",
       "0  25 first street, suite 303 cambridge, ma 02141...    2141  ...   \n",
       "1  820 shades creek parkway\\n \\n suite 1200\\n \\n ...   35209  ...   \n",
       "2                                                NaN     NaN  ...   \n",
       "3  34522 north  scottsddale road suite arizona 85266   85266  ...   \n",
       "4  diamond state ventures\\n suite 400\\n little ro...   72201  ...   \n",
       "\n",
       "                 email_address  \\\n",
       "0          hello@accomplice.co   \n",
       "1  info@bonaventurecapital.net   \n",
       "2           \\ninfo@kaszek.com    \n",
       "3                          NaN   \n",
       "4              jhays@dsvlp.com   \n",
       "\n",
       "                                  sectors_dealt_with  \\\n",
       "0  cybersecurity,esports,data analytics,smb class...   \n",
       "1  internet services,internet advertising,network...   \n",
       "2                                                NaN   \n",
       "3     entertainment,sports,ecological,ports,medicine   \n",
       "4  manufacturing,business services,media,consumer...   \n",
       "\n",
       "                                 investment_stage investment_amount_minimum  \\\n",
       "0                                        startups                  785000.0   \n",
       "1                                     early stage                 4400000.0   \n",
       "2  seed \\nearly stage venture\\nlate stage venture                 1700000.0   \n",
       "3                                     early stage                 4400000.0   \n",
       "4                                     early stage                 4000000.0   \n",
       "\n",
       "  investment_amount_maximum  previously_invested_total_amount  \\\n",
       "0               150000000.0                       405000000.0   \n",
       "1                33000000.0                        83000000.0   \n",
       "2                50000000.0                       165200000.0   \n",
       "3                41600000.0                        83500000.0   \n",
       "4                15000000.0                        26000000.0   \n",
       "\n",
       "   total_number_of_companies_funded_so_far    latitude    longitude code  \n",
       "0                                    180.0    32.31823   -86.902298   al  \n",
       "1                                      8.0    32.31823   -86.902298   al  \n",
       "2                                     68.0  -34.603722   -58.381592   ar  \n",
       "3                                      4.0   34.048927  -111.093731   az  \n",
       "4                                      4.0   34.048928  -111.093732   az  \n",
       "\n",
       "[5 rows x 22 columns]"
      ]
     },
     "execution_count": 3,
     "metadata": {},
     "output_type": "execute_result"
    }
   ],
   "source": [
    "df.head()"
   ]
  },
  {
   "cell_type": "code",
   "execution_count": 4,
   "metadata": {},
   "outputs": [
    {
     "data": {
      "text/plain": [
       "(1803, 22)"
      ]
     },
     "execution_count": 4,
     "metadata": {},
     "output_type": "execute_result"
    }
   ],
   "source": [
    "df.shape"
   ]
  },
  {
   "cell_type": "code",
   "execution_count": 5,
   "metadata": {},
   "outputs": [
    {
     "data": {
      "text/plain": [
       "continent                                   22\n",
       "country                                     12\n",
       "region                                      17\n",
       "state                                        0\n",
       "name_of_vc                                   0\n",
       "year_of_establishment                      237\n",
       "type_of_investor                            82\n",
       "website                                     56\n",
       "postal_address                             152\n",
       "pincode                                    222\n",
       "linkedin_details                           656\n",
       "phone_details                              336\n",
       "email_address                              597\n",
       "sectors_dealt_with                         176\n",
       "investment_stage                           223\n",
       "investment_amount_minimum                  325\n",
       "investment_amount_maximum                  326\n",
       "previously_invested_total_amount           645\n",
       "total_number_of_companies_funded_so_far    242\n",
       "latitude                                     0\n",
       "longitude                                    0\n",
       "code                                         0\n",
       "dtype: int64"
      ]
     },
     "execution_count": 5,
     "metadata": {},
     "output_type": "execute_result"
    }
   ],
   "source": [
    "# missing values in each column - How sparse is our data ?\n",
    "df.isnull().sum()"
   ]
  },
  {
   "cell_type": "code",
   "execution_count": 6,
   "metadata": {},
   "outputs": [
    {
     "data": {
      "text/plain": [
       "continent                                   object\n",
       "country                                     object\n",
       "region                                      object\n",
       "state                                       object\n",
       "name_of_vc                                  object\n",
       "year_of_establishment                      float64\n",
       "type_of_investor                            object\n",
       "website                                     object\n",
       "postal_address                              object\n",
       "pincode                                     object\n",
       "linkedin_details                            object\n",
       "phone_details                               object\n",
       "email_address                               object\n",
       "sectors_dealt_with                          object\n",
       "investment_stage                            object\n",
       "investment_amount_minimum                  float64\n",
       "investment_amount_maximum                  float64\n",
       "previously_invested_total_amount           float64\n",
       "total_number_of_companies_funded_so_far    float64\n",
       "latitude                                    object\n",
       "longitude                                   object\n",
       "code                                        object\n",
       "dtype: object"
      ]
     },
     "execution_count": 6,
     "metadata": {},
     "output_type": "execute_result"
    }
   ],
   "source": [
    "df.dtypes"
   ]
  },
  {
   "cell_type": "code",
   "execution_count": 7,
   "metadata": {},
   "outputs": [
    {
     "data": {
      "text/html": [
       "<div>\n",
       "<style scoped>\n",
       "    .dataframe tbody tr th:only-of-type {\n",
       "        vertical-align: middle;\n",
       "    }\n",
       "\n",
       "    .dataframe tbody tr th {\n",
       "        vertical-align: top;\n",
       "    }\n",
       "\n",
       "    .dataframe thead th {\n",
       "        text-align: right;\n",
       "    }\n",
       "</style>\n",
       "<table border=\"1\" class=\"dataframe\">\n",
       "  <thead>\n",
       "    <tr style=\"text-align: right;\">\n",
       "      <th></th>\n",
       "      <th>year_of_establishment</th>\n",
       "      <th>investment_amount_minimum</th>\n",
       "      <th>investment_amount_maximum</th>\n",
       "      <th>previously_invested_total_amount</th>\n",
       "      <th>total_number_of_companies_funded_so_far</th>\n",
       "    </tr>\n",
       "  </thead>\n",
       "  <tbody>\n",
       "    <tr>\n",
       "      <th>count</th>\n",
       "      <td>1566.000000</td>\n",
       "      <td>1.478000e+03</td>\n",
       "      <td>1.477000e+03</td>\n",
       "      <td>1.158000e+03</td>\n",
       "      <td>1561.000000</td>\n",
       "    </tr>\n",
       "    <tr>\n",
       "      <th>mean</th>\n",
       "      <td>1997.874840</td>\n",
       "      <td>7.845632e+06</td>\n",
       "      <td>2.797514e+08</td>\n",
       "      <td>3.962826e+09</td>\n",
       "      <td>84.380525</td>\n",
       "    </tr>\n",
       "    <tr>\n",
       "      <th>std</th>\n",
       "      <td>14.104346</td>\n",
       "      <td>5.020816e+07</td>\n",
       "      <td>5.661715e+09</td>\n",
       "      <td>6.351694e+10</td>\n",
       "      <td>155.720188</td>\n",
       "    </tr>\n",
       "    <tr>\n",
       "      <th>min</th>\n",
       "      <td>1870.000000</td>\n",
       "      <td>5.000000e+03</td>\n",
       "      <td>2.500000e+04</td>\n",
       "      <td>1.700000e+05</td>\n",
       "      <td>1.000000</td>\n",
       "    </tr>\n",
       "    <tr>\n",
       "      <th>25%</th>\n",
       "      <td>1994.000000</td>\n",
       "      <td>5.000000e+05</td>\n",
       "      <td>1.550000e+07</td>\n",
       "      <td>6.448500e+07</td>\n",
       "      <td>9.000000</td>\n",
       "    </tr>\n",
       "    <tr>\n",
       "      <th>50%</th>\n",
       "      <td>2000.000000</td>\n",
       "      <td>1.500000e+06</td>\n",
       "      <td>4.600000e+07</td>\n",
       "      <td>2.448000e+08</td>\n",
       "      <td>32.000000</td>\n",
       "    </tr>\n",
       "    <tr>\n",
       "      <th>75%</th>\n",
       "      <td>2007.000000</td>\n",
       "      <td>4.000000e+06</td>\n",
       "      <td>1.000000e+08</td>\n",
       "      <td>7.783700e+08</td>\n",
       "      <td>86.000000</td>\n",
       "    </tr>\n",
       "    <tr>\n",
       "      <th>max</th>\n",
       "      <td>2018.000000</td>\n",
       "      <td>1.000000e+09</td>\n",
       "      <td>2.170000e+11</td>\n",
       "      <td>2.000000e+12</td>\n",
       "      <td>1811.000000</td>\n",
       "    </tr>\n",
       "  </tbody>\n",
       "</table>\n",
       "</div>"
      ],
      "text/plain": [
       "       year_of_establishment  investment_amount_minimum  \\\n",
       "count            1566.000000               1.478000e+03   \n",
       "mean             1997.874840               7.845632e+06   \n",
       "std                14.104346               5.020816e+07   \n",
       "min              1870.000000               5.000000e+03   \n",
       "25%              1994.000000               5.000000e+05   \n",
       "50%              2000.000000               1.500000e+06   \n",
       "75%              2007.000000               4.000000e+06   \n",
       "max              2018.000000               1.000000e+09   \n",
       "\n",
       "       investment_amount_maximum  previously_invested_total_amount  \\\n",
       "count               1.477000e+03                      1.158000e+03   \n",
       "mean                2.797514e+08                      3.962826e+09   \n",
       "std                 5.661715e+09                      6.351694e+10   \n",
       "min                 2.500000e+04                      1.700000e+05   \n",
       "25%                 1.550000e+07                      6.448500e+07   \n",
       "50%                 4.600000e+07                      2.448000e+08   \n",
       "75%                 1.000000e+08                      7.783700e+08   \n",
       "max                 2.170000e+11                      2.000000e+12   \n",
       "\n",
       "       total_number_of_companies_funded_so_far  \n",
       "count                              1561.000000  \n",
       "mean                                 84.380525  \n",
       "std                                 155.720188  \n",
       "min                                   1.000000  \n",
       "25%                                   9.000000  \n",
       "50%                                  32.000000  \n",
       "75%                                  86.000000  \n",
       "max                                1811.000000  "
      ]
     },
     "execution_count": 7,
     "metadata": {},
     "output_type": "execute_result"
    }
   ],
   "source": [
    "# gives statistical summary of numeric (float) datatypes in dataframe\n",
    "df.describe()"
   ]
  },
  {
   "cell_type": "code",
   "execution_count": 8,
   "metadata": {},
   "outputs": [
    {
     "data": {
      "text/html": [
       "<div>\n",
       "<style scoped>\n",
       "    .dataframe tbody tr th:only-of-type {\n",
       "        vertical-align: middle;\n",
       "    }\n",
       "\n",
       "    .dataframe tbody tr th {\n",
       "        vertical-align: top;\n",
       "    }\n",
       "\n",
       "    .dataframe thead th {\n",
       "        text-align: right;\n",
       "    }\n",
       "</style>\n",
       "<table border=\"1\" class=\"dataframe\">\n",
       "  <thead>\n",
       "    <tr style=\"text-align: right;\">\n",
       "      <th></th>\n",
       "      <th>name_of_vc</th>\n",
       "      <th>investment_amount_maximum</th>\n",
       "      <th>state</th>\n",
       "    </tr>\n",
       "  </thead>\n",
       "  <tbody>\n",
       "    <tr>\n",
       "      <th>919</th>\n",
       "      <td>fidelity biosciences</td>\n",
       "      <td>2.170000e+11</td>\n",
       "      <td>massachusetts</td>\n",
       "    </tr>\n",
       "    <tr>\n",
       "      <th>1129</th>\n",
       "      <td>actis</td>\n",
       "      <td>8.400000e+09</td>\n",
       "      <td>new york</td>\n",
       "    </tr>\n",
       "    <tr>\n",
       "      <th>450</th>\n",
       "      <td>sequoia capital</td>\n",
       "      <td>7.700000e+09</td>\n",
       "      <td>california</td>\n",
       "    </tr>\n",
       "    <tr>\n",
       "      <th>1273</th>\n",
       "      <td>general atlantic partners</td>\n",
       "      <td>7.700000e+09</td>\n",
       "      <td>new york</td>\n",
       "    </tr>\n",
       "    <tr>\n",
       "      <th>464</th>\n",
       "      <td>silver lake partners</td>\n",
       "      <td>5.500000e+09</td>\n",
       "      <td>california</td>\n",
       "    </tr>\n",
       "    <tr>\n",
       "      <th>1474</th>\n",
       "      <td>warburg pincus llc</td>\n",
       "      <td>5.400000e+09</td>\n",
       "      <td>new york</td>\n",
       "    </tr>\n",
       "    <tr>\n",
       "      <th>1183</th>\n",
       "      <td>berchwood partners llp</td>\n",
       "      <td>2.500000e+09</td>\n",
       "      <td>new york</td>\n",
       "    </tr>\n",
       "    <tr>\n",
       "      <th>228</th>\n",
       "      <td>francisco partners</td>\n",
       "      <td>2.000000e+09</td>\n",
       "      <td>california</td>\n",
       "    </tr>\n",
       "    <tr>\n",
       "      <th>348</th>\n",
       "      <td>meritech capital partner</td>\n",
       "      <td>1.800000e+09</td>\n",
       "      <td>california</td>\n",
       "    </tr>\n",
       "    <tr>\n",
       "      <th>349</th>\n",
       "      <td>meritech capital partners</td>\n",
       "      <td>1.800000e+09</td>\n",
       "      <td>california</td>\n",
       "    </tr>\n",
       "  </tbody>\n",
       "</table>\n",
       "</div>"
      ],
      "text/plain": [
       "                     name_of_vc  investment_amount_maximum          state\n",
       "919        fidelity biosciences               2.170000e+11  massachusetts\n",
       "1129                      actis               8.400000e+09       new york\n",
       "450             sequoia capital               7.700000e+09     california\n",
       "1273  general atlantic partners               7.700000e+09       new york\n",
       "464        silver lake partners               5.500000e+09     california\n",
       "1474         warburg pincus llc               5.400000e+09       new york\n",
       "1183     berchwood partners llp               2.500000e+09       new york\n",
       "228          francisco partners               2.000000e+09     california\n",
       "348    meritech capital partner               1.800000e+09     california\n",
       "349   meritech capital partners               1.800000e+09     california"
      ]
     },
     "execution_count": 8,
     "metadata": {},
     "output_type": "execute_result"
    }
   ],
   "source": [
    "# Top 10 entries by Investment Amount Maximum\n",
    "top = df.nlargest(10, 'investment_amount_maximum')\n",
    "top[['name_of_vc', 'investment_amount_maximum', 'state']]"
   ]
  },
  {
   "cell_type": "code",
   "execution_count": 9,
   "metadata": {},
   "outputs": [
    {
     "data": {
      "application/vnd.plotly.v1+json": {
       "config": {
        "linkText": "Export to plot.ly",
        "plotlyServerURL": "https://plot.ly",
        "showLink": false
       },
       "data": [
        {
         "marker": {
          "color": [
           3,
           6,
           9,
           12,
           15,
           18,
           21,
           24,
           27,
           30
          ],
          "colorscale": "Viridis"
         },
         "type": "bar",
         "uid": "74439e85-5de0-4b15-ba1c-6d556c03d254",
         "x": [
          "fidelity biosciences",
          "actis",
          "sequoia capital",
          "general atlantic partners",
          "silver lake partners",
          "warburg pincus llc",
          "berchwood partners llp",
          "francisco partners",
          "meritech capital partner",
          "meritech capital partners"
         ],
         "y": [
          217000000000,
          8400000000,
          7700000000,
          7700000000,
          5500000000,
          5400000000,
          2500000000,
          2000000000,
          1800000000,
          1800000000
         ]
        }
       ],
       "layout": {
        "title": {
         "text": "Top Ten VCs by Max Amount Invested"
        }
       }
      },
      "text/html": [
       "<div id=\"c7f9c681-cc6b-4c1e-9471-c29f4d423031\" style=\"height: 525px; width: 100%;\" class=\"plotly-graph-div\"></div><script type=\"text/javascript\">require([\"plotly\"], function(Plotly) { window.PLOTLYENV=window.PLOTLYENV || {};window.PLOTLYENV.BASE_URL=\"https://plot.ly\";\n",
       "if (document.getElementById(\"c7f9c681-cc6b-4c1e-9471-c29f4d423031\")) {\n",
       "    Plotly.newPlot(\"c7f9c681-cc6b-4c1e-9471-c29f4d423031\", [{\"marker\": {\"color\": [3, 6, 9, 12, 15, 18, 21, 24, 27, 30], \"colorscale\": \"Viridis\"}, \"x\": [\"fidelity biosciences\", \"actis\", \"sequoia capital\", \"general atlantic partners\", \"silver lake partners\", \"warburg pincus llc\", \"berchwood partners llp\", \"francisco partners\", \"meritech capital partner\", \"meritech capital partners\"], \"y\": [217000000000.0, 8400000000.0, 7700000000.0, 7700000000.0, 5500000000.0, 5400000000.0, 2500000000.0, 2000000000.0, 1800000000.0, 1800000000.0], \"type\": \"bar\", \"uid\": \"74439e85-5de0-4b15-ba1c-6d556c03d254\"}], {\"title\": {\"text\": \"Top Ten VCs by Max Amount Invested\"}}, {\"showLink\": false, \"linkText\": \"Export to plot.ly\", \"plotlyServerURL\": \"https://plot.ly\"}); \n",
       "}\n",
       "});</script><script type=\"text/javascript\">window.addEventListener(\"resize\", function(){if (document.getElementById(\"c7f9c681-cc6b-4c1e-9471-c29f4d423031\")) {window._Plotly.Plots.resize(document.getElementById(\"c7f9c681-cc6b-4c1e-9471-c29f4d423031\"));};})</script>"
      ],
      "text/vnd.plotly.v1+html": [
       "<div id=\"c7f9c681-cc6b-4c1e-9471-c29f4d423031\" style=\"height: 525px; width: 100%;\" class=\"plotly-graph-div\"></div><script type=\"text/javascript\">require([\"plotly\"], function(Plotly) { window.PLOTLYENV=window.PLOTLYENV || {};window.PLOTLYENV.BASE_URL=\"https://plot.ly\";\n",
       "if (document.getElementById(\"c7f9c681-cc6b-4c1e-9471-c29f4d423031\")) {\n",
       "    Plotly.newPlot(\"c7f9c681-cc6b-4c1e-9471-c29f4d423031\", [{\"marker\": {\"color\": [3, 6, 9, 12, 15, 18, 21, 24, 27, 30], \"colorscale\": \"Viridis\"}, \"x\": [\"fidelity biosciences\", \"actis\", \"sequoia capital\", \"general atlantic partners\", \"silver lake partners\", \"warburg pincus llc\", \"berchwood partners llp\", \"francisco partners\", \"meritech capital partner\", \"meritech capital partners\"], \"y\": [217000000000.0, 8400000000.0, 7700000000.0, 7700000000.0, 5500000000.0, 5400000000.0, 2500000000.0, 2000000000.0, 1800000000.0, 1800000000.0], \"type\": \"bar\", \"uid\": \"74439e85-5de0-4b15-ba1c-6d556c03d254\"}], {\"title\": {\"text\": \"Top Ten VCs by Max Amount Invested\"}}, {\"showLink\": false, \"linkText\": \"Export to plot.ly\", \"plotlyServerURL\": \"https://plot.ly\"}); \n",
       "}\n",
       "});</script><script type=\"text/javascript\">window.addEventListener(\"resize\", function(){if (document.getElementById(\"c7f9c681-cc6b-4c1e-9471-c29f4d423031\")) {window._Plotly.Plots.resize(document.getElementById(\"c7f9c681-cc6b-4c1e-9471-c29f4d423031\"));};})</script>"
      ]
     },
     "metadata": {},
     "output_type": "display_data"
    }
   ],
   "source": [
    "ten_color = [3,6,9,12,15,18,21,24,27,30] \n",
    "\n",
    "data = [\n",
    "    go.Bar(\n",
    "        x=top['name_of_vc'], # assign x as the dataframe column 'x'\n",
    "        y=top['investment_amount_maximum'],\n",
    "        marker={\n",
    "        'color': ten_color,\n",
    "        'colorscale': 'Viridis'\n",
    "        }\n",
    "    )\n",
    "]\n",
    "\n",
    "layout = go.Layout(\n",
    "    title='Top Ten VCs by Max Amount Invested',\n",
    ")\n",
    "\n",
    "fig = go.Figure(data=data, layout=layout)\n",
    "\n",
    "iplot(fig, filename='Top Ten VCs by Max Amount Invested.html')"
   ]
  },
  {
   "cell_type": "code",
   "execution_count": 10,
   "metadata": {},
   "outputs": [
    {
     "data": {
      "text/html": [
       "<div>\n",
       "<style scoped>\n",
       "    .dataframe tbody tr th:only-of-type {\n",
       "        vertical-align: middle;\n",
       "    }\n",
       "\n",
       "    .dataframe tbody tr th {\n",
       "        vertical-align: top;\n",
       "    }\n",
       "\n",
       "    .dataframe thead th {\n",
       "        text-align: right;\n",
       "    }\n",
       "</style>\n",
       "<table border=\"1\" class=\"dataframe\">\n",
       "  <thead>\n",
       "    <tr style=\"text-align: right;\">\n",
       "      <th></th>\n",
       "      <th>name_of_vc</th>\n",
       "      <th>previously_invested_total_amount</th>\n",
       "      <th>state</th>\n",
       "    </tr>\n",
       "  </thead>\n",
       "  <tbody>\n",
       "    <tr>\n",
       "      <th>916</th>\n",
       "      <td>f-prime capital\\n partners</td>\n",
       "      <td>2.000000e+12</td>\n",
       "      <td>massachusetts</td>\n",
       "    </tr>\n",
       "    <tr>\n",
       "      <th>1137</th>\n",
       "      <td>alliancebernstein l.p</td>\n",
       "      <td>7.350000e+11</td>\n",
       "      <td>new york</td>\n",
       "    </tr>\n",
       "    <tr>\n",
       "      <th>1436</th>\n",
       "      <td>the blackstone group l.p.</td>\n",
       "      <td>3.600000e+11</td>\n",
       "      <td>new york</td>\n",
       "    </tr>\n",
       "    <tr>\n",
       "      <th>365</th>\n",
       "      <td>new enterprise associates</td>\n",
       "      <td>3.970000e+10</td>\n",
       "      <td>california</td>\n",
       "    </tr>\n",
       "    <tr>\n",
       "      <th>1398</th>\n",
       "      <td>riverstone holdings llc</td>\n",
       "      <td>3.800000e+10</td>\n",
       "      <td>new york</td>\n",
       "    </tr>\n",
       "    <tr>\n",
       "      <th>313</th>\n",
       "      <td>kleiner perkins caufield &amp; byers</td>\n",
       "      <td>3.310000e+10</td>\n",
       "      <td>california</td>\n",
       "    </tr>\n",
       "    <tr>\n",
       "      <th>28</th>\n",
       "      <td>accel partners</td>\n",
       "      <td>3.000000e+10</td>\n",
       "      <td>california</td>\n",
       "    </tr>\n",
       "    <tr>\n",
       "      <th>1183</th>\n",
       "      <td>berchwood partners llp</td>\n",
       "      <td>3.000000e+10</td>\n",
       "      <td>new york</td>\n",
       "    </tr>\n",
       "    <tr>\n",
       "      <th>489</th>\n",
       "      <td>summit partners</td>\n",
       "      <td>2.250000e+10</td>\n",
       "      <td>california</td>\n",
       "    </tr>\n",
       "    <tr>\n",
       "      <th>1200</th>\n",
       "      <td>bluemountain capital management llc</td>\n",
       "      <td>2.200000e+10</td>\n",
       "      <td>new york</td>\n",
       "    </tr>\n",
       "  </tbody>\n",
       "</table>\n",
       "</div>"
      ],
      "text/plain": [
       "                               name_of_vc  previously_invested_total_amount  \\\n",
       "916            f-prime capital\\n partners                      2.000000e+12   \n",
       "1137                alliancebernstein l.p                      7.350000e+11   \n",
       "1436            the blackstone group l.p.                      3.600000e+11   \n",
       "365             new enterprise associates                      3.970000e+10   \n",
       "1398              riverstone holdings llc                      3.800000e+10   \n",
       "313      kleiner perkins caufield & byers                      3.310000e+10   \n",
       "28                         accel partners                      3.000000e+10   \n",
       "1183               berchwood partners llp                      3.000000e+10   \n",
       "489                       summit partners                      2.250000e+10   \n",
       "1200  bluemountain capital management llc                      2.200000e+10   \n",
       "\n",
       "              state  \n",
       "916   massachusetts  \n",
       "1137       new york  \n",
       "1436       new york  \n",
       "365      california  \n",
       "1398       new york  \n",
       "313      california  \n",
       "28       california  \n",
       "1183       new york  \n",
       "489      california  \n",
       "1200       new york  "
      ]
     },
     "execution_count": 10,
     "metadata": {},
     "output_type": "execute_result"
    }
   ],
   "source": [
    "# Top 10 entries by 'Previously Invested Total Amount'\n",
    "top = df.nlargest(10, 'previously_invested_total_amount')\n",
    "top[['name_of_vc', 'previously_invested_total_amount', 'state']]"
   ]
  },
  {
   "cell_type": "code",
   "execution_count": 11,
   "metadata": {},
   "outputs": [
    {
     "data": {
      "application/vnd.plotly.v1+json": {
       "config": {
        "linkText": "Export to plot.ly",
        "plotlyServerURL": "https://plot.ly",
        "showLink": false
       },
       "data": [
        {
         "marker": {
          "color": [
           3,
           6,
           9,
           12,
           15,
           18,
           21,
           24,
           27,
           30
          ],
          "colorscale": "Viridis"
         },
         "type": "bar",
         "uid": "41b1f52a-5b58-4ef6-829e-8d771c034c27",
         "x": [
          "f-prime capital\n partners",
          "alliancebernstein l.p",
          "the blackstone group l.p.",
          "new enterprise associates",
          "riverstone holdings llc",
          "kleiner perkins caufield & byers",
          "accel partners",
          "berchwood partners llp",
          "summit partners",
          "bluemountain capital management llc"
         ],
         "y": [
          2000000000000,
          735000000000,
          360000000000,
          39700000000,
          38000000000,
          33100000000,
          30000000000,
          30000000000,
          22500000000,
          22000000000
         ]
        }
       ],
       "layout": {
        "title": {
         "text": "Top Ten VCs by Previously Invested Total Amount"
        }
       }
      },
      "text/html": [
       "<div id=\"eb760fb8-be70-4449-a340-43611203325f\" style=\"height: 525px; width: 100%;\" class=\"plotly-graph-div\"></div><script type=\"text/javascript\">require([\"plotly\"], function(Plotly) { window.PLOTLYENV=window.PLOTLYENV || {};window.PLOTLYENV.BASE_URL=\"https://plot.ly\";\n",
       "if (document.getElementById(\"eb760fb8-be70-4449-a340-43611203325f\")) {\n",
       "    Plotly.newPlot(\"eb760fb8-be70-4449-a340-43611203325f\", [{\"marker\": {\"color\": [3, 6, 9, 12, 15, 18, 21, 24, 27, 30], \"colorscale\": \"Viridis\"}, \"x\": [\"f-prime capital\\n partners\", \"alliancebernstein l.p\", \"the blackstone group l.p.\", \"new enterprise associates\", \"riverstone holdings llc\", \"kleiner perkins caufield & byers\", \"accel partners\", \"berchwood partners llp\", \"summit partners\", \"bluemountain capital management llc\"], \"y\": [2000000000000.0, 735000000000.0, 360000000000.0, 39700000000.0, 38000000000.0, 33100000000.0, 30000000000.0, 30000000000.0, 22500000000.0, 22000000000.0], \"type\": \"bar\", \"uid\": \"41b1f52a-5b58-4ef6-829e-8d771c034c27\"}], {\"title\": {\"text\": \"Top Ten VCs by Previously Invested Total Amount\"}}, {\"showLink\": false, \"linkText\": \"Export to plot.ly\", \"plotlyServerURL\": \"https://plot.ly\"}); \n",
       "}\n",
       "});</script><script type=\"text/javascript\">window.addEventListener(\"resize\", function(){if (document.getElementById(\"eb760fb8-be70-4449-a340-43611203325f\")) {window._Plotly.Plots.resize(document.getElementById(\"eb760fb8-be70-4449-a340-43611203325f\"));};})</script>"
      ],
      "text/vnd.plotly.v1+html": [
       "<div id=\"eb760fb8-be70-4449-a340-43611203325f\" style=\"height: 525px; width: 100%;\" class=\"plotly-graph-div\"></div><script type=\"text/javascript\">require([\"plotly\"], function(Plotly) { window.PLOTLYENV=window.PLOTLYENV || {};window.PLOTLYENV.BASE_URL=\"https://plot.ly\";\n",
       "if (document.getElementById(\"eb760fb8-be70-4449-a340-43611203325f\")) {\n",
       "    Plotly.newPlot(\"eb760fb8-be70-4449-a340-43611203325f\", [{\"marker\": {\"color\": [3, 6, 9, 12, 15, 18, 21, 24, 27, 30], \"colorscale\": \"Viridis\"}, \"x\": [\"f-prime capital\\n partners\", \"alliancebernstein l.p\", \"the blackstone group l.p.\", \"new enterprise associates\", \"riverstone holdings llc\", \"kleiner perkins caufield & byers\", \"accel partners\", \"berchwood partners llp\", \"summit partners\", \"bluemountain capital management llc\"], \"y\": [2000000000000.0, 735000000000.0, 360000000000.0, 39700000000.0, 38000000000.0, 33100000000.0, 30000000000.0, 30000000000.0, 22500000000.0, 22000000000.0], \"type\": \"bar\", \"uid\": \"41b1f52a-5b58-4ef6-829e-8d771c034c27\"}], {\"title\": {\"text\": \"Top Ten VCs by Previously Invested Total Amount\"}}, {\"showLink\": false, \"linkText\": \"Export to plot.ly\", \"plotlyServerURL\": \"https://plot.ly\"}); \n",
       "}\n",
       "});</script><script type=\"text/javascript\">window.addEventListener(\"resize\", function(){if (document.getElementById(\"eb760fb8-be70-4449-a340-43611203325f\")) {window._Plotly.Plots.resize(document.getElementById(\"eb760fb8-be70-4449-a340-43611203325f\"));};})</script>"
      ]
     },
     "metadata": {},
     "output_type": "display_data"
    }
   ],
   "source": [
    "ten_color = [3,6,9,12,15,18,21,24,27,30] \n",
    "\n",
    "data = [\n",
    "    go.Bar(\n",
    "        x=top['name_of_vc'], # assign x as the dataframe column 'x'\n",
    "        y=top['previously_invested_total_amount'],\n",
    "        marker={\n",
    "        'color': ten_color,\n",
    "        'colorscale': 'Viridis'\n",
    "        }\n",
    "    )\n",
    "]\n",
    "\n",
    "layout = go.Layout(\n",
    "    title='Top Ten VCs by Previously Invested Total Amount',\n",
    ")\n",
    "\n",
    "fig = go.Figure(data=data, layout=layout)\n",
    "\n",
    "iplot(fig, filename='Top Ten VCs by Previously Invested Total Amount.html')"
   ]
  },
  {
   "cell_type": "code",
   "execution_count": 12,
   "metadata": {
    "scrolled": true
   },
   "outputs": [
    {
     "data": {
      "text/plain": [
       "state\n",
       "alabama             2\n",
       "argentina           1\n",
       "arizona             5\n",
       "arkansas            1\n",
       "california        647\n",
       "canada              2\n",
       "colorado           27\n",
       "connecticut        37\n",
       "delaware            6\n",
       "florida            30\n",
       "georgia            14\n",
       "hawaii              2\n",
       "illinois          121\n",
       "indiana             7\n",
       "iowa                3\n",
       "kansas              1\n",
       "kentucky            2\n",
       "louisiana           1\n",
       "maine               4\n",
       "maryland           20\n",
       "massachusetts     180\n",
       "michigan           15\n",
       "minnesota          16\n",
       "mississippi         1\n",
       "missouri            8\n",
       "montana             2\n",
       "nebraska            4\n",
       "nevada              3\n",
       "new hampshire       1\n",
       "new jersey         37\n",
       "new mexico          2\n",
       "new york          370\n",
       "north carolina     14\n",
       "north dakota        4\n",
       "ohio               19\n",
       "oklahoma            1\n",
       "oregon              5\n",
       "pennsylvania       44\n",
       "rhode island        2\n",
       "seattle             1\n",
       "south carolina      2\n",
       "south dakota        1\n",
       "tennessee          11\n",
       "texas              60\n",
       "utah                5\n",
       "vermont             1\n",
       "virginia           20\n",
       "washington         37\n",
       "west virginia       3\n",
       "wisconsin           1\n",
       "Name: name_of_vc, dtype: int64"
      ]
     },
     "execution_count": 12,
     "metadata": {},
     "output_type": "execute_result"
    }
   ],
   "source": [
    "state_vc = df.groupby('state')['name_of_vc'].nunique()\n",
    "state_vc"
   ]
  },
  {
   "cell_type": "code",
   "execution_count": 13,
   "metadata": {},
   "outputs": [],
   "source": [
    "# remove argentina and canada entries...we only want to analyse US states \n",
    "df.drop(df[df.state == 'argentina'].index, inplace=True)\n",
    "df.drop(df[df.state == 'canada'].index, inplace=True)\n"
   ]
  },
  {
   "cell_type": "code",
   "execution_count": 14,
   "metadata": {
    "scrolled": false
   },
   "outputs": [
    {
     "name": "stdout",
     "output_type": "stream",
     "text": [
      "             state  total_vc codes\n",
      "0          alabama         2    AL\n",
      "1          arizona         5    AZ\n",
      "2         arkansas         1    AR\n",
      "3       california       647    CA\n",
      "4         colorado        27    CO\n",
      "5      connecticut        37    CT\n",
      "6         delaware         6    DE\n",
      "7          florida        30    FL\n",
      "8          georgia        14    GA\n",
      "9           hawaii         2    HI\n",
      "10        illinois       121    IL\n",
      "11         indiana         7    IN\n",
      "12            iowa         3    IA\n",
      "13          kansas         1    IA\n",
      "14        kentucky         2    KY\n",
      "15       louisiana         1    LA\n",
      "16           maine         4    ME\n",
      "17        maryland        20    MD\n",
      "18   massachusetts       180    MA\n",
      "19        michigan        15    MI\n",
      "20       minnesota        16    MN\n",
      "21     mississippi         1    MS\n",
      "22        missouri         8    MO\n",
      "23         montana         2    MT\n",
      "24        nebraska         4    NE\n",
      "25          nevada         3    NV\n",
      "26   new hampshire         1    NH\n",
      "27      new jersey        37    NJ\n",
      "28      new mexico         2    NM\n",
      "29        new york       370    NY\n",
      "30  north carolina        14    NC\n",
      "31    north dakota         4    ND\n",
      "32            ohio        19    OH\n",
      "33        oklahoma         1    OK\n",
      "34          oregon         5    OR\n",
      "35    pennsylvania        44    PA\n",
      "36    rhode island         2    RI\n",
      "37         seattle         1    WA\n",
      "38  south carolina         2    CO\n",
      "39    south dakota         1    SD\n",
      "40       tennessee        11    TN\n",
      "41           texas        60    TX\n",
      "42            utah         5    UT\n",
      "43         vermont         1    VT\n",
      "44        virginia        20    VA\n",
      "45      washington        37    WA\n",
      "46   west virginia         3    WV\n",
      "47       wisconsin         1    WI\n"
     ]
    }
   ],
   "source": [
    "state_vc_df = pd.DataFrame({'total_vc' : df.groupby('state')['name_of_vc'].nunique()}).reset_index()\n",
    "\n",
    "df.code = df.code.str.replace(' ', '')\n",
    "    \n",
    "df['state'] = df['state'].astype(str)\n",
    "codes = []\n",
    "for s in state_vc_df['state']:\n",
    "    codes.append(df.loc[df['state'] == s, 'code'].iloc[0].upper())\n",
    "\n",
    "state_vc_df['codes'] = codes\n",
    "\n",
    "#state_vc_df = pd.DataFrame({'total_vc' : df.groupby( [\"State\"] ).size()}).reset_index()\n",
    "print(state_vc_df)"
   ]
  },
  {
   "cell_type": "code",
   "execution_count": 15,
   "metadata": {},
   "outputs": [
    {
     "data": {
      "application/vnd.plotly.v1+json": {
       "config": {
        "linkText": "Export to plot.ly",
        "plotlyServerURL": "https://plot.ly",
        "showLink": false
       },
       "data": [
        {
         "hoverinfo": "label+percent+value",
         "labels": [
          "alabama",
          "arizona",
          "arkansas",
          "california",
          "colorado",
          "connecticut",
          "delaware",
          "florida",
          "georgia",
          "hawaii",
          "illinois",
          "indiana",
          "iowa",
          "kansas",
          "kentucky",
          "louisiana",
          "maine",
          "maryland",
          "massachusetts",
          "michigan",
          "minnesota",
          "mississippi",
          "missouri",
          "montana",
          "nebraska",
          "nevada",
          "new hampshire",
          "new jersey",
          "new mexico",
          "new york",
          "north carolina",
          "north dakota",
          "ohio",
          "oklahoma",
          "oregon",
          "pennsylvania",
          "rhode island",
          "seattle",
          "south carolina",
          "south dakota",
          "tennessee",
          "texas",
          "utah",
          "vermont",
          "virginia",
          "washington",
          "west virginia",
          "wisconsin"
         ],
         "textinfo": "label",
         "type": "pie",
         "uid": "e1b7723e-85b1-4911-9054-7526a16b4fa0",
         "values": [
          2,
          5,
          1,
          647,
          27,
          37,
          6,
          30,
          14,
          2,
          121,
          7,
          3,
          1,
          2,
          1,
          4,
          20,
          180,
          15,
          16,
          1,
          8,
          2,
          4,
          3,
          1,
          37,
          2,
          370,
          14,
          4,
          19,
          1,
          5,
          44,
          2,
          1,
          2,
          1,
          11,
          60,
          5,
          1,
          20,
          37,
          3,
          1
         ]
        }
       ],
       "layout": {
        "title": {
         "text": "Total Venture Capital Firms in Each State"
        }
       }
      },
      "text/html": [
       "<div id=\"dc387850-0344-46f3-84c5-8a1939f0faa3\" style=\"height: 525px; width: 100%;\" class=\"plotly-graph-div\"></div><script type=\"text/javascript\">require([\"plotly\"], function(Plotly) { window.PLOTLYENV=window.PLOTLYENV || {};window.PLOTLYENV.BASE_URL=\"https://plot.ly\";\n",
       "if (document.getElementById(\"dc387850-0344-46f3-84c5-8a1939f0faa3\")) {\n",
       "    Plotly.newPlot(\"dc387850-0344-46f3-84c5-8a1939f0faa3\", [{\"hoverinfo\": \"label+percent+value\", \"labels\": [\"alabama\", \"arizona\", \"arkansas\", \"california\", \"colorado\", \"connecticut\", \"delaware\", \"florida\", \"georgia\", \"hawaii\", \"illinois\", \"indiana\", \"iowa\", \"kansas\", \"kentucky\", \"louisiana\", \"maine\", \"maryland\", \"massachusetts\", \"michigan\", \"minnesota\", \"mississippi\", \"missouri\", \"montana\", \"nebraska\", \"nevada\", \"new hampshire\", \"new jersey\", \"new mexico\", \"new york\", \"north carolina\", \"north dakota\", \"ohio\", \"oklahoma\", \"oregon\", \"pennsylvania\", \"rhode island\", \"seattle\", \"south carolina\", \"south dakota\", \"tennessee\", \"texas\", \"utah\", \"vermont\", \"virginia\", \"washington\", \"west virginia\", \"wisconsin\"], \"textinfo\": \"label\", \"values\": [2, 5, 1, 647, 27, 37, 6, 30, 14, 2, 121, 7, 3, 1, 2, 1, 4, 20, 180, 15, 16, 1, 8, 2, 4, 3, 1, 37, 2, 370, 14, 4, 19, 1, 5, 44, 2, 1, 2, 1, 11, 60, 5, 1, 20, 37, 3, 1], \"type\": \"pie\", \"uid\": \"e1b7723e-85b1-4911-9054-7526a16b4fa0\"}], {\"title\": {\"text\": \"Total Venture Capital Firms in Each State\"}}, {\"showLink\": false, \"linkText\": \"Export to plot.ly\", \"plotlyServerURL\": \"https://plot.ly\"}); \n",
       "}\n",
       "});</script><script type=\"text/javascript\">window.addEventListener(\"resize\", function(){if (document.getElementById(\"dc387850-0344-46f3-84c5-8a1939f0faa3\")) {window._Plotly.Plots.resize(document.getElementById(\"dc387850-0344-46f3-84c5-8a1939f0faa3\"));};})</script>"
      ],
      "text/vnd.plotly.v1+html": [
       "<div id=\"dc387850-0344-46f3-84c5-8a1939f0faa3\" style=\"height: 525px; width: 100%;\" class=\"plotly-graph-div\"></div><script type=\"text/javascript\">require([\"plotly\"], function(Plotly) { window.PLOTLYENV=window.PLOTLYENV || {};window.PLOTLYENV.BASE_URL=\"https://plot.ly\";\n",
       "if (document.getElementById(\"dc387850-0344-46f3-84c5-8a1939f0faa3\")) {\n",
       "    Plotly.newPlot(\"dc387850-0344-46f3-84c5-8a1939f0faa3\", [{\"hoverinfo\": \"label+percent+value\", \"labels\": [\"alabama\", \"arizona\", \"arkansas\", \"california\", \"colorado\", \"connecticut\", \"delaware\", \"florida\", \"georgia\", \"hawaii\", \"illinois\", \"indiana\", \"iowa\", \"kansas\", \"kentucky\", \"louisiana\", \"maine\", \"maryland\", \"massachusetts\", \"michigan\", \"minnesota\", \"mississippi\", \"missouri\", \"montana\", \"nebraska\", \"nevada\", \"new hampshire\", \"new jersey\", \"new mexico\", \"new york\", \"north carolina\", \"north dakota\", \"ohio\", \"oklahoma\", \"oregon\", \"pennsylvania\", \"rhode island\", \"seattle\", \"south carolina\", \"south dakota\", \"tennessee\", \"texas\", \"utah\", \"vermont\", \"virginia\", \"washington\", \"west virginia\", \"wisconsin\"], \"textinfo\": \"label\", \"values\": [2, 5, 1, 647, 27, 37, 6, 30, 14, 2, 121, 7, 3, 1, 2, 1, 4, 20, 180, 15, 16, 1, 8, 2, 4, 3, 1, 37, 2, 370, 14, 4, 19, 1, 5, 44, 2, 1, 2, 1, 11, 60, 5, 1, 20, 37, 3, 1], \"type\": \"pie\", \"uid\": \"e1b7723e-85b1-4911-9054-7526a16b4fa0\"}], {\"title\": {\"text\": \"Total Venture Capital Firms in Each State\"}}, {\"showLink\": false, \"linkText\": \"Export to plot.ly\", \"plotlyServerURL\": \"https://plot.ly\"}); \n",
       "}\n",
       "});</script><script type=\"text/javascript\">window.addEventListener(\"resize\", function(){if (document.getElementById(\"dc387850-0344-46f3-84c5-8a1939f0faa3\")) {window._Plotly.Plots.resize(document.getElementById(\"dc387850-0344-46f3-84c5-8a1939f0faa3\"));};})</script>"
      ]
     },
     "metadata": {},
     "output_type": "display_data"
    }
   ],
   "source": [
    "layout = go.Layout(\n",
    "    title = go.layout.Title(\n",
    "        text = 'Total Venture Capital Firms in Each State'\n",
    "    ),\n",
    ")\n",
    "data = go.Pie(labels=state_vc_df.state, values=state_vc_df.total_vc, textinfo='label',hoverinfo='label+percent+value')\n",
    "\n",
    "fig = go.Figure(data = [data], layout = layout)\n",
    "\n",
    "iplot(fig, filename='basic_pie_chart_1.html')"
   ]
  },
  {
   "cell_type": "code",
   "execution_count": 16,
   "metadata": {},
   "outputs": [
    {
     "data": {
      "application/vnd.plotly.v1+json": {
       "config": {
        "linkText": "Export to plot.ly",
        "plotlyServerURL": "https://plot.ly",
        "showLink": false
       },
       "data": [
        {
         "autocolorscale": false,
         "colorbar": {
          "title": {
           "text": "VC/PE Firm Count"
          }
         },
         "colorscale": [
          [
           0,
           "rgb(242,240,247)"
          ],
          [
           0.2,
           "rgb(218,228,235)"
          ],
          [
           0.4,
           "rgb(188,199,220)"
          ],
          [
           0.6,
           "rgb(158,154,200)"
          ],
          [
           0.8,
           "rgb(117,127,177)"
          ],
          [
           1,
           "rgb(94,59,143)"
          ]
         ],
         "locationmode": "USA-states",
         "locations": [
          "AL",
          "AZ",
          "AR",
          "CA",
          "CO",
          "CT",
          "DE",
          "FL",
          "GA",
          "HI",
          "IL",
          "IN",
          "IA",
          "IA",
          "KY",
          "LA",
          "ME",
          "MD",
          "MA",
          "MI",
          "MN",
          "MS",
          "MO",
          "MT",
          "NE",
          "NV",
          "NH",
          "NJ",
          "NM",
          "NY",
          "NC",
          "ND",
          "OH",
          "OK",
          "OR",
          "PA",
          "RI",
          "WA",
          "CO",
          "SD",
          "TN",
          "TX",
          "UT",
          "VT",
          "VA",
          "WA",
          "WV",
          "WI"
         ],
         "marker": {
          "line": {
           "color": "rgb(255,255,255)",
           "width": 2
          }
         },
         "text": [
          "alabama<br>Total VC/PE firms: 2",
          "arizona<br>Total VC/PE firms: 5",
          "arkansas<br>Total VC/PE firms: 1",
          "california<br>Total VC/PE firms: 647",
          "colorado<br>Total VC/PE firms: 27",
          "connecticut<br>Total VC/PE firms: 37",
          "delaware<br>Total VC/PE firms: 6",
          "florida<br>Total VC/PE firms: 30",
          "georgia<br>Total VC/PE firms: 14",
          "hawaii<br>Total VC/PE firms: 2",
          "illinois<br>Total VC/PE firms: 121",
          "indiana<br>Total VC/PE firms: 7",
          "iowa<br>Total VC/PE firms: 3",
          "kansas<br>Total VC/PE firms: 1",
          "kentucky<br>Total VC/PE firms: 2",
          "louisiana<br>Total VC/PE firms: 1",
          "maine<br>Total VC/PE firms: 4",
          "maryland<br>Total VC/PE firms: 20",
          "massachusetts<br>Total VC/PE firms: 180",
          "michigan<br>Total VC/PE firms: 15",
          "minnesota<br>Total VC/PE firms: 16",
          "mississippi<br>Total VC/PE firms: 1",
          "missouri<br>Total VC/PE firms: 8",
          "montana<br>Total VC/PE firms: 2",
          "nebraska<br>Total VC/PE firms: 4",
          "nevada<br>Total VC/PE firms: 3",
          "new hampshire<br>Total VC/PE firms: 1",
          "new jersey<br>Total VC/PE firms: 37",
          "new mexico<br>Total VC/PE firms: 2",
          "new york<br>Total VC/PE firms: 370",
          "north carolina<br>Total VC/PE firms: 14",
          "north dakota<br>Total VC/PE firms: 4",
          "ohio<br>Total VC/PE firms: 19",
          "oklahoma<br>Total VC/PE firms: 1",
          "oregon<br>Total VC/PE firms: 5",
          "pennsylvania<br>Total VC/PE firms: 44",
          "rhode island<br>Total VC/PE firms: 2",
          "seattle<br>Total VC/PE firms: 1",
          "south carolina<br>Total VC/PE firms: 2",
          "south dakota<br>Total VC/PE firms: 1",
          "tennessee<br>Total VC/PE firms: 11",
          "texas<br>Total VC/PE firms: 60",
          "utah<br>Total VC/PE firms: 5",
          "vermont<br>Total VC/PE firms: 1",
          "virginia<br>Total VC/PE firms: 20",
          "washington<br>Total VC/PE firms: 37",
          "west virginia<br>Total VC/PE firms: 3",
          "wisconsin<br>Total VC/PE firms: 1"
         ],
         "type": "choropleth",
         "uid": "e6efb939-4d17-4b54-a7fc-9ef6ece92e9c",
         "z": [
          2,
          5,
          1,
          647,
          27,
          37,
          6,
          30,
          14,
          2,
          121,
          7,
          3,
          1,
          2,
          1,
          4,
          20,
          180,
          15,
          16,
          1,
          8,
          2,
          4,
          3,
          1,
          37,
          2,
          370,
          14,
          4,
          19,
          1,
          5,
          44,
          2,
          1,
          2,
          1,
          11,
          60,
          5,
          1,
          20,
          37,
          3,
          1
         ]
        }
       ],
       "layout": {
        "geo": {
         "lakecolor": "rgb(255, 255, 255)",
         "projection": {
          "type": "albers usa"
         },
         "scope": "usa",
         "showlakes": true
        },
        "title": {
         "text": "Total Venture Capital Firms in Each State"
        }
       }
      },
      "text/html": [
       "<div id=\"5bc6179c-ad4a-411c-a7c8-36253ec90eec\" style=\"height: 525px; width: 100%;\" class=\"plotly-graph-div\"></div><script type=\"text/javascript\">require([\"plotly\"], function(Plotly) { window.PLOTLYENV=window.PLOTLYENV || {};window.PLOTLYENV.BASE_URL=\"https://plot.ly\";\n",
       "if (document.getElementById(\"5bc6179c-ad4a-411c-a7c8-36253ec90eec\")) {\n",
       "    Plotly.newPlot(\"5bc6179c-ad4a-411c-a7c8-36253ec90eec\", [{\"autocolorscale\": false, \"colorbar\": {\"title\": {\"text\": \"VC/PE Firm Count\"}}, \"colorscale\": [[0.0, \"rgb(242,240,247)\"], [0.2, \"rgb(218,228,235)\"], [0.4, \"rgb(188,199,220)\"], [0.6, \"rgb(158,154,200)\"], [0.8, \"rgb(117,127,177)\"], [1.0, \"rgb(94,59,143)\"]], \"locationmode\": \"USA-states\", \"locations\": [\"AL\", \"AZ\", \"AR\", \"CA\", \"CO\", \"CT\", \"DE\", \"FL\", \"GA\", \"HI\", \"IL\", \"IN\", \"IA\", \"IA\", \"KY\", \"LA\", \"ME\", \"MD\", \"MA\", \"MI\", \"MN\", \"MS\", \"MO\", \"MT\", \"NE\", \"NV\", \"NH\", \"NJ\", \"NM\", \"NY\", \"NC\", \"ND\", \"OH\", \"OK\", \"OR\", \"PA\", \"RI\", \"WA\", \"CO\", \"SD\", \"TN\", \"TX\", \"UT\", \"VT\", \"VA\", \"WA\", \"WV\", \"WI\"], \"marker\": {\"line\": {\"color\": \"rgb(255,255,255)\", \"width\": 2}}, \"text\": [\"alabama<br>Total VC/PE firms: 2\", \"arizona<br>Total VC/PE firms: 5\", \"arkansas<br>Total VC/PE firms: 1\", \"california<br>Total VC/PE firms: 647\", \"colorado<br>Total VC/PE firms: 27\", \"connecticut<br>Total VC/PE firms: 37\", \"delaware<br>Total VC/PE firms: 6\", \"florida<br>Total VC/PE firms: 30\", \"georgia<br>Total VC/PE firms: 14\", \"hawaii<br>Total VC/PE firms: 2\", \"illinois<br>Total VC/PE firms: 121\", \"indiana<br>Total VC/PE firms: 7\", \"iowa<br>Total VC/PE firms: 3\", \"kansas<br>Total VC/PE firms: 1\", \"kentucky<br>Total VC/PE firms: 2\", \"louisiana<br>Total VC/PE firms: 1\", \"maine<br>Total VC/PE firms: 4\", \"maryland<br>Total VC/PE firms: 20\", \"massachusetts<br>Total VC/PE firms: 180\", \"michigan<br>Total VC/PE firms: 15\", \"minnesota<br>Total VC/PE firms: 16\", \"mississippi<br>Total VC/PE firms: 1\", \"missouri<br>Total VC/PE firms: 8\", \"montana<br>Total VC/PE firms: 2\", \"nebraska<br>Total VC/PE firms: 4\", \"nevada<br>Total VC/PE firms: 3\", \"new hampshire<br>Total VC/PE firms: 1\", \"new jersey<br>Total VC/PE firms: 37\", \"new mexico<br>Total VC/PE firms: 2\", \"new york<br>Total VC/PE firms: 370\", \"north carolina<br>Total VC/PE firms: 14\", \"north dakota<br>Total VC/PE firms: 4\", \"ohio<br>Total VC/PE firms: 19\", \"oklahoma<br>Total VC/PE firms: 1\", \"oregon<br>Total VC/PE firms: 5\", \"pennsylvania<br>Total VC/PE firms: 44\", \"rhode island<br>Total VC/PE firms: 2\", \"seattle<br>Total VC/PE firms: 1\", \"south carolina<br>Total VC/PE firms: 2\", \"south dakota<br>Total VC/PE firms: 1\", \"tennessee<br>Total VC/PE firms: 11\", \"texas<br>Total VC/PE firms: 60\", \"utah<br>Total VC/PE firms: 5\", \"vermont<br>Total VC/PE firms: 1\", \"virginia<br>Total VC/PE firms: 20\", \"washington<br>Total VC/PE firms: 37\", \"west virginia<br>Total VC/PE firms: 3\", \"wisconsin<br>Total VC/PE firms: 1\"], \"z\": [2, 5, 1, 647, 27, 37, 6, 30, 14, 2, 121, 7, 3, 1, 2, 1, 4, 20, 180, 15, 16, 1, 8, 2, 4, 3, 1, 37, 2, 370, 14, 4, 19, 1, 5, 44, 2, 1, 2, 1, 11, 60, 5, 1, 20, 37, 3, 1], \"type\": \"choropleth\", \"uid\": \"e6efb939-4d17-4b54-a7fc-9ef6ece92e9c\"}], {\"geo\": {\"lakecolor\": \"rgb(255, 255, 255)\", \"projection\": {\"type\": \"albers usa\"}, \"scope\": \"usa\", \"showlakes\": true}, \"title\": {\"text\": \"Total Venture Capital Firms in Each State\"}}, {\"showLink\": false, \"linkText\": \"Export to plot.ly\", \"plotlyServerURL\": \"https://plot.ly\"}); \n",
       "}\n",
       "});</script><script type=\"text/javascript\">window.addEventListener(\"resize\", function(){if (document.getElementById(\"5bc6179c-ad4a-411c-a7c8-36253ec90eec\")) {window._Plotly.Plots.resize(document.getElementById(\"5bc6179c-ad4a-411c-a7c8-36253ec90eec\"));};})</script>"
      ],
      "text/vnd.plotly.v1+html": [
       "<div id=\"5bc6179c-ad4a-411c-a7c8-36253ec90eec\" style=\"height: 525px; width: 100%;\" class=\"plotly-graph-div\"></div><script type=\"text/javascript\">require([\"plotly\"], function(Plotly) { window.PLOTLYENV=window.PLOTLYENV || {};window.PLOTLYENV.BASE_URL=\"https://plot.ly\";\n",
       "if (document.getElementById(\"5bc6179c-ad4a-411c-a7c8-36253ec90eec\")) {\n",
       "    Plotly.newPlot(\"5bc6179c-ad4a-411c-a7c8-36253ec90eec\", [{\"autocolorscale\": false, \"colorbar\": {\"title\": {\"text\": \"VC/PE Firm Count\"}}, \"colorscale\": [[0.0, \"rgb(242,240,247)\"], [0.2, \"rgb(218,228,235)\"], [0.4, \"rgb(188,199,220)\"], [0.6, \"rgb(158,154,200)\"], [0.8, \"rgb(117,127,177)\"], [1.0, \"rgb(94,59,143)\"]], \"locationmode\": \"USA-states\", \"locations\": [\"AL\", \"AZ\", \"AR\", \"CA\", \"CO\", \"CT\", \"DE\", \"FL\", \"GA\", \"HI\", \"IL\", \"IN\", \"IA\", \"IA\", \"KY\", \"LA\", \"ME\", \"MD\", \"MA\", \"MI\", \"MN\", \"MS\", \"MO\", \"MT\", \"NE\", \"NV\", \"NH\", \"NJ\", \"NM\", \"NY\", \"NC\", \"ND\", \"OH\", \"OK\", \"OR\", \"PA\", \"RI\", \"WA\", \"CO\", \"SD\", \"TN\", \"TX\", \"UT\", \"VT\", \"VA\", \"WA\", \"WV\", \"WI\"], \"marker\": {\"line\": {\"color\": \"rgb(255,255,255)\", \"width\": 2}}, \"text\": [\"alabama<br>Total VC/PE firms: 2\", \"arizona<br>Total VC/PE firms: 5\", \"arkansas<br>Total VC/PE firms: 1\", \"california<br>Total VC/PE firms: 647\", \"colorado<br>Total VC/PE firms: 27\", \"connecticut<br>Total VC/PE firms: 37\", \"delaware<br>Total VC/PE firms: 6\", \"florida<br>Total VC/PE firms: 30\", \"georgia<br>Total VC/PE firms: 14\", \"hawaii<br>Total VC/PE firms: 2\", \"illinois<br>Total VC/PE firms: 121\", \"indiana<br>Total VC/PE firms: 7\", \"iowa<br>Total VC/PE firms: 3\", \"kansas<br>Total VC/PE firms: 1\", \"kentucky<br>Total VC/PE firms: 2\", \"louisiana<br>Total VC/PE firms: 1\", \"maine<br>Total VC/PE firms: 4\", \"maryland<br>Total VC/PE firms: 20\", \"massachusetts<br>Total VC/PE firms: 180\", \"michigan<br>Total VC/PE firms: 15\", \"minnesota<br>Total VC/PE firms: 16\", \"mississippi<br>Total VC/PE firms: 1\", \"missouri<br>Total VC/PE firms: 8\", \"montana<br>Total VC/PE firms: 2\", \"nebraska<br>Total VC/PE firms: 4\", \"nevada<br>Total VC/PE firms: 3\", \"new hampshire<br>Total VC/PE firms: 1\", \"new jersey<br>Total VC/PE firms: 37\", \"new mexico<br>Total VC/PE firms: 2\", \"new york<br>Total VC/PE firms: 370\", \"north carolina<br>Total VC/PE firms: 14\", \"north dakota<br>Total VC/PE firms: 4\", \"ohio<br>Total VC/PE firms: 19\", \"oklahoma<br>Total VC/PE firms: 1\", \"oregon<br>Total VC/PE firms: 5\", \"pennsylvania<br>Total VC/PE firms: 44\", \"rhode island<br>Total VC/PE firms: 2\", \"seattle<br>Total VC/PE firms: 1\", \"south carolina<br>Total VC/PE firms: 2\", \"south dakota<br>Total VC/PE firms: 1\", \"tennessee<br>Total VC/PE firms: 11\", \"texas<br>Total VC/PE firms: 60\", \"utah<br>Total VC/PE firms: 5\", \"vermont<br>Total VC/PE firms: 1\", \"virginia<br>Total VC/PE firms: 20\", \"washington<br>Total VC/PE firms: 37\", \"west virginia<br>Total VC/PE firms: 3\", \"wisconsin<br>Total VC/PE firms: 1\"], \"z\": [2, 5, 1, 647, 27, 37, 6, 30, 14, 2, 121, 7, 3, 1, 2, 1, 4, 20, 180, 15, 16, 1, 8, 2, 4, 3, 1, 37, 2, 370, 14, 4, 19, 1, 5, 44, 2, 1, 2, 1, 11, 60, 5, 1, 20, 37, 3, 1], \"type\": \"choropleth\", \"uid\": \"e6efb939-4d17-4b54-a7fc-9ef6ece92e9c\"}], {\"geo\": {\"lakecolor\": \"rgb(255, 255, 255)\", \"projection\": {\"type\": \"albers usa\"}, \"scope\": \"usa\", \"showlakes\": true}, \"title\": {\"text\": \"Total Venture Capital Firms in Each State\"}}, {\"showLink\": false, \"linkText\": \"Export to plot.ly\", \"plotlyServerURL\": \"https://plot.ly\"}); \n",
       "}\n",
       "});</script><script type=\"text/javascript\">window.addEventListener(\"resize\", function(){if (document.getElementById(\"5bc6179c-ad4a-411c-a7c8-36253ec90eec\")) {window._Plotly.Plots.resize(document.getElementById(\"5bc6179c-ad4a-411c-a7c8-36253ec90eec\"));};})</script>"
      ]
     },
     "metadata": {},
     "output_type": "display_data"
    }
   ],
   "source": [
    "scl = [\n",
    "    [0.0, 'rgb(242,240,247)'],\n",
    "    [0.2, 'rgb(218,228,235)'],\n",
    "    [0.4, 'rgb(188,199,220)'],\n",
    "    [0.6, 'rgb(158,154,200)'],\n",
    "    [0.8, 'rgb(117,127,177)'],\n",
    "    [1.0, 'rgb(94,59,143)']\n",
    "] \n",
    "\n",
    "for col in state_vc_df.columns:\n",
    "    state_vc_df[col] = state_vc_df[col].astype(str)\n",
    "    \n",
    "data = [go.Choropleth(\n",
    "    colorscale = scl,\n",
    "    autocolorscale = False,\n",
    "    locations = state_vc_df.codes,\n",
    "    z = state_vc_df['total_vc'].astype(int),\n",
    "    locationmode = 'USA-states',\n",
    "    text = state_vc_df['state'] + '<br>' + 'Total VC/PE firms: ' + state_vc_df['total_vc'],\n",
    "    marker = go.choropleth.Marker(\n",
    "        line = go.choropleth.marker.Line(\n",
    "            color = 'rgb(255,255,255)',\n",
    "            width = 2\n",
    "        )),\n",
    "    colorbar = go.choropleth.ColorBar(\n",
    "        title = \"VC/PE Firm Count\")\n",
    ")]\n",
    "\n",
    "layout = go.Layout(\n",
    "    title = go.layout.Title(\n",
    "        text = 'Total Venture Capital Firms in Each State'\n",
    "    ),\n",
    "    geo = go.layout.Geo(\n",
    "        scope = 'usa',\n",
    "        projection = go.layout.geo.Projection(type = 'albers usa'),\n",
    "        showlakes = True,\n",
    "        lakecolor = 'rgb(255, 255, 255)'),\n",
    ")\n",
    "\n",
    "fig = go.Figure(data = data, layout = layout)\n",
    "iplot(fig, filename = 'Total Venture Capital Firms in Each State.html')"
   ]
  },
  {
   "cell_type": "code",
   "execution_count": 17,
   "metadata": {},
   "outputs": [
    {
     "data": {
      "text/plain": [
       "0       cybersecurity,esports,data analytics,smb class...\n",
       "1       internet services,internet advertising,network...\n",
       "3          entertainment,sports,ecological,ports,medicine\n",
       "4       manufacturing,business services,media,consumer...\n",
       "5                                      financial services\n",
       "6                                                     NaN\n",
       "7       saas,ecommerce,b2b software,software,advertisi...\n",
       "8                                                 various\n",
       "9              finance,financial services,venture capital\n",
       "10      ,analytics,big data,cloud data,services,digita...\n",
       "11        cloud infrastructure,ecommerce,venture capital \n",
       "12             finance,financial services,venture capital\n",
       "13            advertising,consumer,fintech,saas,security \n",
       "14             consumer,finance,internet,venture capital \n",
       "15                       advertising,media,entertainment \n",
       "16      advertising,consumer,information technology,mo...\n",
       "17      business development,financial services,ventur...\n",
       "18                                           life science\n",
       "19                         investment management,advisory\n",
       "20      mobile,ecommerce,cloud storage,big data,educat...\n",
       "21                    medical,scientific,legal and finace\n",
       "22                          pharmaceuticals,biotechnology\n",
       "23                                      it infrastructure\n",
       "24                                             technology\n",
       "25                                             healthcare\n",
       "26      business and education services,information an...\n",
       "27                                             healthcare\n",
       "28      software,mobile,big data,internet of things,se...\n",
       "29                          mezzanine investments,buyouts\n",
       "30                                    enterprice software\n",
       "                              ...                        \n",
       "1773                                                  NaN\n",
       "1774                                           healthcare\n",
       "1775    healthcare,pharmaceutical,life science,medical...\n",
       "1776                                    healthcare,pharma\n",
       "1777                      information technology,software\n",
       "1778                        intellectual property,patents\n",
       "1779                                   financial services\n",
       "1780                     saas,software,technology service\n",
       "1781                                      retail,software\n",
       "1782                                    consumer,internet\n",
       "1783             software,cloud,mobile,technology sectors\n",
       "1784                                     defense industry\n",
       "1785                                                  NaN\n",
       "1786     cleantech,digital biology,information technology\n",
       "1787               life science and healthcare industries\n",
       "1788    living and digital,resorts,financial services ...\n",
       "1789                                                  NaN\n",
       "1790    wireless,broadband and network transactional i...\n",
       "1791                           digital health,health care\n",
       "1792    enterprise software,financial services,venture...\n",
       "1793    technology,wireless,telecommunication,applicat...\n",
       "1794    informationtechnology,internet,digital media,e...\n",
       "1795                    big data,cloud computing,software\n",
       "1796    financial services,information services,intern...\n",
       "1797    media and communications,energy and natural re...\n",
       "1798    life sciences,information technology and physi...\n",
       "1799    real estate investment products,private equity...\n",
       "1800    information and communications technology,chem...\n",
       "1801                 early stage technology,life sciences\n",
       "1802              home automation,vehicles,data analytics\n",
       "Name: sectors_dealt_with, Length: 1800, dtype: object"
      ]
     },
     "execution_count": 17,
     "metadata": {},
     "output_type": "execute_result"
    }
   ],
   "source": [
    "df.sectors_dealt_with"
   ]
  },
  {
   "cell_type": "code",
   "execution_count": 18,
   "metadata": {},
   "outputs": [
    {
     "data": {
      "text/html": [
       "<div>\n",
       "<style scoped>\n",
       "    .dataframe tbody tr th:only-of-type {\n",
       "        vertical-align: middle;\n",
       "    }\n",
       "\n",
       "    .dataframe tbody tr th {\n",
       "        vertical-align: top;\n",
       "    }\n",
       "\n",
       "    .dataframe thead th {\n",
       "        text-align: right;\n",
       "    }\n",
       "</style>\n",
       "<table border=\"1\" class=\"dataframe\">\n",
       "  <thead>\n",
       "    <tr style=\"text-align: right;\">\n",
       "      <th></th>\n",
       "      <th>sectors</th>\n",
       "      <th>count</th>\n",
       "    </tr>\n",
       "  </thead>\n",
       "  <tbody>\n",
       "    <tr>\n",
       "      <th>0</th>\n",
       "      <td>healthcare</td>\n",
       "      <td>243</td>\n",
       "    </tr>\n",
       "    <tr>\n",
       "      <th>1</th>\n",
       "      <td>software</td>\n",
       "      <td>200</td>\n",
       "    </tr>\n",
       "    <tr>\n",
       "      <th>2</th>\n",
       "      <td>information technology</td>\n",
       "      <td>175</td>\n",
       "    </tr>\n",
       "    <tr>\n",
       "      <th>3</th>\n",
       "      <td>financial services</td>\n",
       "      <td>164</td>\n",
       "    </tr>\n",
       "    <tr>\n",
       "      <th>4</th>\n",
       "      <td>venture capital</td>\n",
       "      <td>164</td>\n",
       "    </tr>\n",
       "  </tbody>\n",
       "</table>\n",
       "</div>"
      ],
      "text/plain": [
       "                  sectors  count\n",
       "0              healthcare    243\n",
       "1                software    200\n",
       "2  information technology    175\n",
       "3      financial services    164\n",
       "4         venture capital    164"
      ]
     },
     "execution_count": 18,
     "metadata": {},
     "output_type": "execute_result"
    }
   ],
   "source": [
    "df.sectors_dealt_with = df.sectors_dealt_with.str.replace('\\n', '').str.strip().replace('\\s+', ' ', regex=True)\n",
    "\n",
    "sf = df.sectors_dealt_with.str.split(',', expand=True).stack().value_counts()\n",
    "\n",
    "dfx = pd.DataFrame({'sectors':sf.index, 'count':sf.values})\n",
    "\n",
    "dfx.columns = dfx.columns.str.strip()\n",
    "\n",
    "# remove row with NaN sector value\n",
    "dfx = dfx[dfx.sectors != \"\"]\n",
    "\n",
    "dfx = dfx.reset_index(drop=True)\n",
    "\n",
    "dfx.head()"
   ]
  },
  {
   "cell_type": "code",
   "execution_count": 19,
   "metadata": {},
   "outputs": [
    {
     "data": {
      "application/vnd.plotly.v1+json": {
       "config": {
        "linkText": "Export to plot.ly",
        "plotlyServerURL": "https://plot.ly",
        "showLink": false
       },
       "data": [
        {
         "marker": {
          "color": [
           3,
           6,
           9,
           12,
           15,
           18,
           21,
           24,
           27,
           30
          ],
          "colorscale": "Viridis"
         },
         "type": "bar",
         "uid": "80f010cf-e653-4320-9dc4-a452d48ead99",
         "x": [
          "healthcare",
          "software",
          "information technology",
          "financial services",
          "venture capital",
          "technology",
          "finance",
          "internet",
          "energy",
          "biotechnology"
         ],
         "y": [
          243,
          200,
          175,
          164,
          164,
          146,
          118,
          89,
          86,
          86
         ]
        }
       ],
       "layout": {
        "title": {
         "text": "Top Ten Sectors Invested in by VCs"
        },
        "xaxis": {
         "title": {
          "text": "SECTORS"
         }
        },
        "yaxis": {
         "title": {
          "text": "COUNT"
         }
        }
       }
      },
      "text/html": [
       "<div id=\"2156dba6-38a9-4b0e-8488-57dd7518c721\" style=\"height: 525px; width: 100%;\" class=\"plotly-graph-div\"></div><script type=\"text/javascript\">require([\"plotly\"], function(Plotly) { window.PLOTLYENV=window.PLOTLYENV || {};window.PLOTLYENV.BASE_URL=\"https://plot.ly\";\n",
       "if (document.getElementById(\"2156dba6-38a9-4b0e-8488-57dd7518c721\")) {\n",
       "    Plotly.newPlot(\"2156dba6-38a9-4b0e-8488-57dd7518c721\", [{\"marker\": {\"color\": [3, 6, 9, 12, 15, 18, 21, 24, 27, 30], \"colorscale\": \"Viridis\"}, \"x\": [\"healthcare\", \"software\", \"information technology\", \"financial services\", \"venture capital\", \"technology\", \"finance\", \"internet\", \"energy\", \"biotechnology\"], \"y\": [243, 200, 175, 164, 164, 146, 118, 89, 86, 86], \"type\": \"bar\", \"uid\": \"80f010cf-e653-4320-9dc4-a452d48ead99\"}], {\"title\": {\"text\": \"Top Ten Sectors Invested in by VCs\"}, \"xaxis\": {\"title\": {\"text\": \"SECTORS\"}}, \"yaxis\": {\"title\": {\"text\": \"COUNT\"}}}, {\"showLink\": false, \"linkText\": \"Export to plot.ly\", \"plotlyServerURL\": \"https://plot.ly\"}); \n",
       "}\n",
       "});</script><script type=\"text/javascript\">window.addEventListener(\"resize\", function(){if (document.getElementById(\"2156dba6-38a9-4b0e-8488-57dd7518c721\")) {window._Plotly.Plots.resize(document.getElementById(\"2156dba6-38a9-4b0e-8488-57dd7518c721\"));};})</script>"
      ],
      "text/vnd.plotly.v1+html": [
       "<div id=\"2156dba6-38a9-4b0e-8488-57dd7518c721\" style=\"height: 525px; width: 100%;\" class=\"plotly-graph-div\"></div><script type=\"text/javascript\">require([\"plotly\"], function(Plotly) { window.PLOTLYENV=window.PLOTLYENV || {};window.PLOTLYENV.BASE_URL=\"https://plot.ly\";\n",
       "if (document.getElementById(\"2156dba6-38a9-4b0e-8488-57dd7518c721\")) {\n",
       "    Plotly.newPlot(\"2156dba6-38a9-4b0e-8488-57dd7518c721\", [{\"marker\": {\"color\": [3, 6, 9, 12, 15, 18, 21, 24, 27, 30], \"colorscale\": \"Viridis\"}, \"x\": [\"healthcare\", \"software\", \"information technology\", \"financial services\", \"venture capital\", \"technology\", \"finance\", \"internet\", \"energy\", \"biotechnology\"], \"y\": [243, 200, 175, 164, 164, 146, 118, 89, 86, 86], \"type\": \"bar\", \"uid\": \"80f010cf-e653-4320-9dc4-a452d48ead99\"}], {\"title\": {\"text\": \"Top Ten Sectors Invested in by VCs\"}, \"xaxis\": {\"title\": {\"text\": \"SECTORS\"}}, \"yaxis\": {\"title\": {\"text\": \"COUNT\"}}}, {\"showLink\": false, \"linkText\": \"Export to plot.ly\", \"plotlyServerURL\": \"https://plot.ly\"}); \n",
       "}\n",
       "});</script><script type=\"text/javascript\">window.addEventListener(\"resize\", function(){if (document.getElementById(\"2156dba6-38a9-4b0e-8488-57dd7518c721\")) {window._Plotly.Plots.resize(document.getElementById(\"2156dba6-38a9-4b0e-8488-57dd7518c721\"));};})</script>"
      ]
     },
     "metadata": {},
     "output_type": "display_data"
    }
   ],
   "source": [
    "# Top 10 sectors invested in by VCs\n",
    "tops = dfx.nlargest(10, 'count')\n",
    "\n",
    "ten_color = [3,6,9,12,15,18,21,24,27,30] \n",
    "\n",
    "data = [\n",
    "    go.Bar(\n",
    "        x=tops['sectors'], # assign x as the dataframe column 'x'\n",
    "        y=tops['count'],\n",
    "        marker={\n",
    "        'color': ten_color,\n",
    "        'colorscale': 'Viridis'\n",
    "        }\n",
    "    )\n",
    "]\n",
    "\n",
    "layout = go.Layout(\n",
    "    title='Top Ten Sectors Invested in by VCs',\n",
    "    xaxis=dict(title='SECTORS'),\n",
    "    yaxis=dict(title='COUNT')\n",
    ")\n",
    "\n",
    "fig = go.Figure(data=data, layout=layout)\n",
    "\n",
    "iplot(fig, filename='Top Ten Sectors Invested in by VCs.html')"
   ]
  },
  {
   "cell_type": "code",
   "execution_count": 20,
   "metadata": {},
   "outputs": [],
   "source": [
    "yf = pd.DataFrame({'name':df.name_of_vc, 'year':df.year_of_establishment})\n",
    "\n",
    "yf = yf.fillna(9999)\n",
    "yf['year'] = yf['year'].astype(int)"
   ]
  },
  {
   "cell_type": "code",
   "execution_count": 21,
   "metadata": {},
   "outputs": [
    {
     "data": {
      "application/vnd.plotly.v1+json": {
       "config": {
        "linkText": "Export to plot.ly",
        "plotlyServerURL": "https://plot.ly",
        "showLink": false
       },
       "data": [
        {
         "marker": {
          "color": [
           3,
           6,
           9,
           12,
           15,
           18,
           21,
           24,
           27,
           30
          ],
          "colorscale": "Viridis"
         },
         "type": "bar",
         "uid": "303a6f66-8f72-417f-8f6b-2a9123c516f7",
         "x": [
          "db capital ventures",
          "spencer trask",
          "h.b. fuller",
          "cibc world markets",
          "cit group",
          "bessemer venture partners",
          "cross venture fund",
          "axel johnson inc.",
          "eastman chemical company",
          "texas instruments"
         ],
         "y": [
          1870,
          1884,
          1887,
          1905,
          1908,
          1911,
          1919,
          1920,
          1920,
          1930
         ]
        }
       ],
       "layout": {
        "title": {
         "text": "Top 10 Oldest VC Firms"
        },
        "xaxis": {
         "title": {
          "text": "VC Firms"
         }
        },
        "yaxis": {
         "range": [
          1850,
          1950
         ],
         "title": {
          "text": "Year of Establishment"
         }
        }
       }
      },
      "text/html": [
       "<div id=\"cb0423f0-cd11-433d-bfd6-eba3b26c44db\" style=\"height: 525px; width: 100%;\" class=\"plotly-graph-div\"></div><script type=\"text/javascript\">require([\"plotly\"], function(Plotly) { window.PLOTLYENV=window.PLOTLYENV || {};window.PLOTLYENV.BASE_URL=\"https://plot.ly\";\n",
       "if (document.getElementById(\"cb0423f0-cd11-433d-bfd6-eba3b26c44db\")) {\n",
       "    Plotly.newPlot(\"cb0423f0-cd11-433d-bfd6-eba3b26c44db\", [{\"marker\": {\"color\": [3, 6, 9, 12, 15, 18, 21, 24, 27, 30], \"colorscale\": \"Viridis\"}, \"x\": [\"db capital ventures\", \"spencer trask\", \"h.b. fuller\", \"cibc world markets\", \"cit group\", \"bessemer venture partners\", \"cross venture fund\", \"axel johnson inc.\", \"eastman chemical company\", \"texas instruments\"], \"y\": [1870, 1884, 1887, 1905, 1908, 1911, 1919, 1920, 1920, 1930], \"type\": \"bar\", \"uid\": \"303a6f66-8f72-417f-8f6b-2a9123c516f7\"}], {\"title\": {\"text\": \"Top 10 Oldest VC Firms\"}, \"xaxis\": {\"title\": {\"text\": \"VC Firms\"}}, \"yaxis\": {\"range\": [1850, 1950], \"title\": {\"text\": \"Year of Establishment\"}}}, {\"showLink\": false, \"linkText\": \"Export to plot.ly\", \"plotlyServerURL\": \"https://plot.ly\"}); \n",
       "}\n",
       "});</script><script type=\"text/javascript\">window.addEventListener(\"resize\", function(){if (document.getElementById(\"cb0423f0-cd11-433d-bfd6-eba3b26c44db\")) {window._Plotly.Plots.resize(document.getElementById(\"cb0423f0-cd11-433d-bfd6-eba3b26c44db\"));};})</script>"
      ],
      "text/vnd.plotly.v1+html": [
       "<div id=\"cb0423f0-cd11-433d-bfd6-eba3b26c44db\" style=\"height: 525px; width: 100%;\" class=\"plotly-graph-div\"></div><script type=\"text/javascript\">require([\"plotly\"], function(Plotly) { window.PLOTLYENV=window.PLOTLYENV || {};window.PLOTLYENV.BASE_URL=\"https://plot.ly\";\n",
       "if (document.getElementById(\"cb0423f0-cd11-433d-bfd6-eba3b26c44db\")) {\n",
       "    Plotly.newPlot(\"cb0423f0-cd11-433d-bfd6-eba3b26c44db\", [{\"marker\": {\"color\": [3, 6, 9, 12, 15, 18, 21, 24, 27, 30], \"colorscale\": \"Viridis\"}, \"x\": [\"db capital ventures\", \"spencer trask\", \"h.b. fuller\", \"cibc world markets\", \"cit group\", \"bessemer venture partners\", \"cross venture fund\", \"axel johnson inc.\", \"eastman chemical company\", \"texas instruments\"], \"y\": [1870, 1884, 1887, 1905, 1908, 1911, 1919, 1920, 1920, 1930], \"type\": \"bar\", \"uid\": \"303a6f66-8f72-417f-8f6b-2a9123c516f7\"}], {\"title\": {\"text\": \"Top 10 Oldest VC Firms\"}, \"xaxis\": {\"title\": {\"text\": \"VC Firms\"}}, \"yaxis\": {\"range\": [1850, 1950], \"title\": {\"text\": \"Year of Establishment\"}}}, {\"showLink\": false, \"linkText\": \"Export to plot.ly\", \"plotlyServerURL\": \"https://plot.ly\"}); \n",
       "}\n",
       "});</script><script type=\"text/javascript\">window.addEventListener(\"resize\", function(){if (document.getElementById(\"cb0423f0-cd11-433d-bfd6-eba3b26c44db\")) {window._Plotly.Plots.resize(document.getElementById(\"cb0423f0-cd11-433d-bfd6-eba3b26c44db\"));};})</script>"
      ]
     },
     "metadata": {},
     "output_type": "display_data"
    }
   ],
   "source": [
    "# Top 10 oldest VC firms\n",
    "yfs = yf.nsmallest(10, 'year')\n",
    "\n",
    "ten_color = [3,6,9,12,15,18,21,24,27,30] \n",
    "\n",
    "data = [\n",
    "    go.Bar(\n",
    "        x=yfs['name'], # assign x as the dataframe column 'x'\n",
    "        y=yfs['year'],\n",
    "        marker={\n",
    "        'color': ten_color,\n",
    "        'colorscale': 'Viridis'\n",
    "        }\n",
    "    )\n",
    "]\n",
    "\n",
    "layout = go.Layout(\n",
    "    title='Top 10 Oldest VC Firms',\n",
    "    xaxis=dict(title='VC Firms'),\n",
    "    yaxis=dict(title='Year of Establishment', range=[1850, 1950])\n",
    ")\n",
    "\n",
    "fig = go.Figure(data=data, layout=layout)\n",
    "\n",
    "iplot(fig, filename='Top 10 oldest VC firms.html')"
   ]
  },
  {
   "cell_type": "code",
   "execution_count": 22,
   "metadata": {},
   "outputs": [],
   "source": [
    "zf = pd.DataFrame({'name':df.name_of_vc, 'total_companies':df.total_number_of_companies_funded_so_far})\n",
    "\n",
    "zf = zf.fillna(0)"
   ]
  },
  {
   "cell_type": "code",
   "execution_count": 23,
   "metadata": {},
   "outputs": [
    {
     "data": {
      "application/vnd.plotly.v1+json": {
       "config": {
        "linkText": "Export to plot.ly",
        "plotlyServerURL": "https://plot.ly",
        "showLink": false
       },
       "data": [
        {
         "marker": {
          "color": [
           3,
           6,
           9,
           12,
           15,
           18,
           21,
           24,
           27,
           30
          ],
          "colorscale": "Viridis"
         },
         "type": "bar",
         "uid": "525233b8-631b-4d6e-bc1d-f9f159761e00",
         "x": [
          "y combinator",
          "500 startups",
          "sequoia capital",
          "new enterprise associates",
          "new enterprise \nassociates, inc.\n",
          "intel capital",
          "accel partners",
          "kleiner perkins caufield & byers",
          "sv angel",
          "draper fish jurvetson"
         ],
         "y": [
          1811,
          1666,
          1571,
          1444,
          1434,
          1247,
          1165,
          1030,
          816,
          800
         ]
        }
       ],
       "layout": {
        "title": {
         "text": "Top 10 VCs by Total Number of Companies Funded"
        },
        "xaxis": {
         "title": {
          "text": "VC Firms"
         }
        },
        "yaxis": {
         "range": [
          0,
          2500
         ],
         "title": {
          "text": "Total Companies Funded"
         }
        }
       }
      },
      "text/html": [
       "<div id=\"332da866-482c-4394-981b-6c54d2891891\" style=\"height: 525px; width: 100%;\" class=\"plotly-graph-div\"></div><script type=\"text/javascript\">require([\"plotly\"], function(Plotly) { window.PLOTLYENV=window.PLOTLYENV || {};window.PLOTLYENV.BASE_URL=\"https://plot.ly\";\n",
       "if (document.getElementById(\"332da866-482c-4394-981b-6c54d2891891\")) {\n",
       "    Plotly.newPlot(\"332da866-482c-4394-981b-6c54d2891891\", [{\"marker\": {\"color\": [3, 6, 9, 12, 15, 18, 21, 24, 27, 30], \"colorscale\": \"Viridis\"}, \"x\": [\"y combinator\", \"500 startups\", \"sequoia capital\", \"new enterprise associates\", \"new enterprise \\nassociates, inc.\\n\", \"intel capital\", \"accel partners\", \"kleiner perkins caufield & byers\", \"sv angel\", \"draper fish jurvetson\"], \"y\": [1811.0, 1666.0, 1571.0, 1444.0, 1434.0, 1247.0, 1165.0, 1030.0, 816.0, 800.0], \"type\": \"bar\", \"uid\": \"525233b8-631b-4d6e-bc1d-f9f159761e00\"}], {\"title\": {\"text\": \"Top 10 VCs by Total Number of Companies Funded\"}, \"xaxis\": {\"title\": {\"text\": \"VC Firms\"}}, \"yaxis\": {\"range\": [0, 2500], \"title\": {\"text\": \"Total Companies Funded\"}}}, {\"showLink\": false, \"linkText\": \"Export to plot.ly\", \"plotlyServerURL\": \"https://plot.ly\"}); \n",
       "}\n",
       "});</script><script type=\"text/javascript\">window.addEventListener(\"resize\", function(){if (document.getElementById(\"332da866-482c-4394-981b-6c54d2891891\")) {window._Plotly.Plots.resize(document.getElementById(\"332da866-482c-4394-981b-6c54d2891891\"));};})</script>"
      ],
      "text/vnd.plotly.v1+html": [
       "<div id=\"332da866-482c-4394-981b-6c54d2891891\" style=\"height: 525px; width: 100%;\" class=\"plotly-graph-div\"></div><script type=\"text/javascript\">require([\"plotly\"], function(Plotly) { window.PLOTLYENV=window.PLOTLYENV || {};window.PLOTLYENV.BASE_URL=\"https://plot.ly\";\n",
       "if (document.getElementById(\"332da866-482c-4394-981b-6c54d2891891\")) {\n",
       "    Plotly.newPlot(\"332da866-482c-4394-981b-6c54d2891891\", [{\"marker\": {\"color\": [3, 6, 9, 12, 15, 18, 21, 24, 27, 30], \"colorscale\": \"Viridis\"}, \"x\": [\"y combinator\", \"500 startups\", \"sequoia capital\", \"new enterprise associates\", \"new enterprise \\nassociates, inc.\\n\", \"intel capital\", \"accel partners\", \"kleiner perkins caufield & byers\", \"sv angel\", \"draper fish jurvetson\"], \"y\": [1811.0, 1666.0, 1571.0, 1444.0, 1434.0, 1247.0, 1165.0, 1030.0, 816.0, 800.0], \"type\": \"bar\", \"uid\": \"525233b8-631b-4d6e-bc1d-f9f159761e00\"}], {\"title\": {\"text\": \"Top 10 VCs by Total Number of Companies Funded\"}, \"xaxis\": {\"title\": {\"text\": \"VC Firms\"}}, \"yaxis\": {\"range\": [0, 2500], \"title\": {\"text\": \"Total Companies Funded\"}}}, {\"showLink\": false, \"linkText\": \"Export to plot.ly\", \"plotlyServerURL\": \"https://plot.ly\"}); \n",
       "}\n",
       "});</script><script type=\"text/javascript\">window.addEventListener(\"resize\", function(){if (document.getElementById(\"332da866-482c-4394-981b-6c54d2891891\")) {window._Plotly.Plots.resize(document.getElementById(\"332da866-482c-4394-981b-6c54d2891891\"));};})</script>"
      ]
     },
     "metadata": {},
     "output_type": "display_data"
    }
   ],
   "source": [
    "# Top 10 VCs by Total Number of Companies Funded\n",
    "zfs = zf.nlargest(10, 'total_companies')\n",
    "\n",
    "ten_color = [3,6,9,12,15,18,21,24,27,30] \n",
    "\n",
    "data = [\n",
    "    go.Bar(\n",
    "        x=zfs['name'], # assign x as the dataframe column 'x'\n",
    "        y=zfs['total_companies'],\n",
    "        marker={\n",
    "        'color': ten_color,\n",
    "        'colorscale': 'Viridis'\n",
    "        }\n",
    "    )\n",
    "]\n",
    "\n",
    "layout = go.Layout(\n",
    "    title='Top 10 VCs by Total Number of Companies Funded',\n",
    "    xaxis=dict(title='VC Firms'),\n",
    "    yaxis=dict(title='Total Companies Funded', range=[0, 2500])\n",
    ")\n",
    "\n",
    "fig = go.Figure(data=data, layout=layout)\n",
    "\n",
    "iplot(fig, filename='Top 10 VCs by Total Number of Companies Funded.html')"
   ]
  },
  {
   "cell_type": "code",
   "execution_count": null,
   "metadata": {},
   "outputs": [],
   "source": []
  }
 ],
 "metadata": {
  "kernelspec": {
   "display_name": "Python 3",
   "language": "python",
   "name": "python3"
  },
  "language_info": {
   "codemirror_mode": {
    "name": "ipython",
    "version": 3
   },
   "file_extension": ".py",
   "mimetype": "text/x-python",
   "name": "python",
   "nbconvert_exporter": "python",
   "pygments_lexer": "ipython3",
   "version": "3.7.2"
  }
 },
 "nbformat": 4,
 "nbformat_minor": 2
}
